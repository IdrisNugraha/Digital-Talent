{
 "cells": [
  {
   "cell_type": "markdown",
   "metadata": {},
   "source": [
    "# LATIHAN 2 - Tugas List Nilai\n",
    "Diberikan sekumpulan Nilai Random antara 0 sampai dengan 100 sebanyak 250 nilai. Buatlah program untuk melakukan hal berikut:\n",
    "\n",
    "Tampilkan Angka Ganjil dari ke 250 nilai tersebut\n",
    "Tampilkan berapa banyak yang mendapatkan nilai lebih dari 70\n",
    "Tampilkan standar deviasi dari sekumpulan nilai tersebut\n",
    "Tampilkan nilai maksimum dan minimum\n",
    "Tampilkan modus dari sekumpulan nilai tersebut"
   ]
  },
  {
   "cell_type": "code",
   "execution_count": 11,
   "metadata": {},
   "outputs": [
    {
     "name": "stdout",
     "output_type": "stream",
     "text": [
      "[76, 35, 54, 87, 43, 27, 42, 49, 46, 23, 71, 5, 65, 41, 6, 94, 99, 43, 61, 70, 71, 51, 25, 76, 46, 34, 10, 83, 26, 53, 19, 7, 50, 55, 27, 7, 12, 17, 45, 81, 2, 26, 63, 9, 30, 89, 15, 65, 32, 9, 69, 9, 7, 39, 40, 50, 6, 94, 96, 58, 2, 86, 2, 39, 6, 20, 2, 46, 57, 52, 6, 78, 60, 31, 49, 50, 14, 39, 99, 53, 25, 43, 45, 34, 41, 90, 4, 86, 44, 23, 58, 67, 2, 99, 10, 76, 44, 83, 40, 26, 88, 2, 11, 17, 37, 34, 74, 82, 71, 49, 40, 8, 52, 15, 50, 63, 59, 29, 39, 28, 79, 22, 2, 4, 18, 89, 18, 3, 33, 33, 26, 41, 9, 69, 80, 50, 65, 25, 88, 47, 5, 48, 66, 31, 40, 43, 95, 12, 3, 2, 76, 85, 33, 79, 39, 72, 58, 23, 92, 28, 76, 52, 66, 47, 49, 27, 9, 56, 10, 95, 70, 80, 29, 55, 40, 6, 7, 62, 18, 92, 16, 10, 92, 24, 5, 23, 42, 4, 16, 46, 27, 20, 4, 39, 61, 74, 17, 42, 47, 42, 34, 47, 12, 57, 7, 37, 43, 97, 8, 42, 73, 19, 13, 99, 11, 94, 47, 90, 14, 49, 22, 78, 34, 48, 67, 37, 73, 55, 67, 13, 52, 50, 61, 96, 27, 49, 78, 64, 27, 22, 48, 26, 25, 60, 28, 51, 76, 76, 93, 4]\n"
     ]
    }
   ],
   "source": [
    "nilaiTugas=[]\n",
    "for i in range(250):\n",
    "    nilaiTugas.append(random.randrange(1,100,1))\n",
    "\n",
    "print(nilaiTugas)"
   ]
  },
  {
   "cell_type": "markdown",
   "metadata": {},
   "source": [
    "# Angka Ganjil"
   ]
  },
  {
   "cell_type": "code",
   "execution_count": 12,
   "metadata": {},
   "outputs": [
    {
     "name": "stdout",
     "output_type": "stream",
     "text": [
      "[35, 87, 43, 27, 49, 23, 71, 5, 65, 41, 99, 43, 61, 71, 51, 25, 83, 53, 19, 7, 55, 27, 7, 17, 45, 81, 63, 9, 89, 15, 65, 9, 69, 9, 7, 39, 39, 57, 31, 49, 39, 99, 53, 25, 43, 45, 41, 23, 67, 99, 83, 11, 17, 37, 71, 49, 15, 63, 59, 29, 39, 79, 89, 3, 33, 33, 41, 9, 69, 65, 25, 47, 5, 31, 43, 95, 3, 85, 33, 79, 39, 23, 47, 49, 27, 9, 95, 29, 55, 7, 5, 23, 27, 39, 61, 17, 47, 47, 57, 7, 37, 43, 97, 73, 19, 13, 99, 11, 47, 49, 67, 37, 73, 55, 67, 13, 61, 27, 49, 27, 25, 51, 93]\n"
     ]
    }
   ],
   "source": [
    "angkaGanjil=[]\n",
    "for ganjil in nilaiTugas:\n",
    "    if ganjil%2==1:\n",
    "        angkaGanjil.append(ganjil)\n",
    "print(angkaGanjil)"
   ]
  },
  {
   "cell_type": "markdown",
   "metadata": {},
   "source": [
    "# Nilai >70"
   ]
  },
  {
   "cell_type": "code",
   "execution_count": 13,
   "metadata": {},
   "outputs": [
    {
     "name": "stdout",
     "output_type": "stream",
     "text": [
      "[76, 87, 71, 94, 99, 71, 76, 83, 81, 89, 94, 96, 86, 78, 99, 90, 86, 99, 76, 83, 88, 74, 82, 71, 79, 89, 80, 88, 95, 76, 85, 79, 72, 92, 76, 95, 80, 92, 92, 74, 97, 73, 99, 94, 90, 78, 73, 96, 78, 76, 76, 93]\n"
     ]
    }
   ],
   "source": [
    "nilaiLebih70=[] \n",
    "for nilai in nilaiTugas:\n",
    "    if nilai >70:\n",
    "        nilaiLebih70.append(nilai)\n",
    "        \n",
    "print(nilaiLebih70)"
   ]
  },
  {
   "cell_type": "markdown",
   "metadata": {},
   "source": [
    "# Standard Deviasi"
   ]
  },
  {
   "cell_type": "code",
   "execution_count": 17,
   "metadata": {},
   "outputs": [
    {
     "name": "stdout",
     "output_type": "stream",
     "text": [
      "Standard Deviasi adalah = 2.5214620479867924\n"
     ]
    }
   ],
   "source": [
    "total=0\n",
    "for g in nilaiTugas:\n",
    "    total=total+g\n",
    "ratarata=total/len(nilaiTugas)\n",
    "\n",
    "totalSelisih=0\n",
    "for g in nilaiTugas:\n",
    "    selisihKuadrat=(g-ratarata)**2\n",
    "    Totalselisih=totalSelisih+selisihKuadrat\n",
    "StandardDeviasi=(Totalselisih/(len(nilaiTugas)-1))**0.5\n",
    "print(\"Standard Deviasi adalah =\", standardDeviasi)"
   ]
  },
  {
   "cell_type": "markdown",
   "metadata": {},
   "source": [
    "# Maks & Min"
   ]
  },
  {
   "cell_type": "code",
   "execution_count": 21,
   "metadata": {},
   "outputs": [
    {
     "name": "stdout",
     "output_type": "stream",
     "text": [
      "Nilai Maksimal Adalah 99\n",
      "Nilai Minimal Adalah 2\n"
     ]
    }
   ],
   "source": [
    "nilaiMaks=nilaiTugas[0]\n",
    "nilaiMin=nilaiTugas[0]\n",
    "for g in nilaiTugas:\n",
    "    if(g>nilaiMaks):\n",
    "        nilaiMaks=g\n",
    "    if(g<nilaiMin):\n",
    "        nilaiMin=g\n",
    "print('Nilai Maksimal Adalah', nilaiMaks)\n",
    "print('Nilai Minimal Adalah', nilaiMin)"
   ]
  },
  {
   "cell_type": "markdown",
   "metadata": {},
   "source": [
    "# Modus"
   ]
  },
  {
   "cell_type": "code",
   "execution_count": 24,
   "metadata": {},
   "outputs": [
    {
     "name": "stdout",
     "output_type": "stream",
     "text": [
      "Nilai Modus Adalah 2 Dengan Frekuensi 8 Kali\n"
     ]
    }
   ],
   "source": [
    "frekuensi=0\n",
    "modus={}\n",
    "\n",
    "for nilai in nilaiTugas:\n",
    "    count=nilaiTugas.count(nilai)\n",
    "    modus.update({nilai:count})\n",
    "    \n",
    "for key in modus:\n",
    "    if modus[key]>frekuensi:\n",
    "        frekuensi=modus[key]\n",
    "        \n",
    "for key in modus:\n",
    "    if modus [key]==frekuensi:\n",
    "        print('Nilai Modus Adalah', key, 'Dengan Frekuensi', frekuensi, 'Kali')"
   ]
  },
  {
   "cell_type": "markdown",
   "metadata": {},
   "source": [
    "# Words Count"
   ]
  },
  {
   "cell_type": "code",
   "execution_count": 25,
   "metadata": {},
   "outputs": [
    {
     "name": "stdout",
     "output_type": "stream",
     "text": [
      "Barcelona berhasil merebut posisi puncak klasemen La Liga Spanyol seusai menang 4-2 atas Sevilla pada pertandingan pekan kesembilan di Stadion Camp Nou, Sabtu (20/10/2018) atau Minggu dini hari WIB. Barcelona membuka keunggulan pada menit ke-2 melalui gol yang dicetak oleh Philippe Coutinho. Lionel Messi menggandakan keunggulan Barcelona, 10 menit berselang.  Namun, nahas bagi Barcelona, karena Messi harus ditarik keluar pada menit ke-26 setelah mengalami cedera. Tanpa Messi, skor 2-0 bertahan hingga babak pertama berakhir.\n"
     ]
    }
   ],
   "source": [
    "paragraf = \"Barcelona berhasil merebut posisi puncak klasemen La Liga Spanyol seusai menang 4-2 atas Sevilla pada pertandingan pekan kesembilan di Stadion Camp Nou, Sabtu (20/10/2018) atau Minggu dini hari WIB. Barcelona membuka keunggulan pada menit ke-2 melalui gol yang dicetak oleh Philippe Coutinho. Lionel Messi menggandakan keunggulan Barcelona, 10 menit berselang.  Namun, nahas bagi Barcelona, karena Messi harus ditarik keluar pada menit ke-26 setelah mengalami cedera. Tanpa Messi, skor 2-0 bertahan hingga babak pertama berakhir.\"\n",
    "print(paragraf)"
   ]
  },
  {
   "cell_type": "code",
   "execution_count": 26,
   "metadata": {},
   "outputs": [
    {
     "name": "stdout",
     "output_type": "stream",
     "text": [
      "barcelona berhasil merebut posisi puncak klasemen la liga spanyol seusai menang 4-2 atas sevilla pada pertandingan pekan kesembilan di stadion camp nou, sabtu (20/10/2018) atau minggu dini hari wib. barcelona membuka keunggulan pada menit ke-2 melalui gol yang dicetak oleh philippe coutinho. lionel messi menggandakan keunggulan barcelona, 10 menit berselang.  namun, nahas bagi barcelona, karena messi harus ditarik keluar pada menit ke-26 setelah mengalami cedera. tanpa messi, skor 2-0 bertahan hingga babak pertama berakhir.\n"
     ]
    }
   ],
   "source": [
    "paragraflower=paragraf.lower()\n",
    "print(paragraflower)"
   ]
  },
  {
   "cell_type": "code",
   "execution_count": 27,
   "metadata": {},
   "outputs": [
    {
     "name": "stdout",
     "output_type": "stream",
     "text": [
      "barcelona berhasil merebut posisi puncak klasemen la liga spanyol seusai menang 42 atas sevilla pada pertandingan pekan kesembilan di stadion camp nou sabtu 20102018 atau minggu dini hari wib barcelona membuka keunggulan pada menit ke2 melalui gol yang dicetak oleh philippe coutinho lionel messi menggandakan keunggulan barcelona 10 menit berselang  namun nahas bagi barcelona karena messi harus ditarik keluar pada menit ke26 setelah mengalami cedera tanpa messi skor 20 bertahan hingga babak pertama berakhir\n"
     ]
    }
   ],
   "source": [
    "tandaBaca=\".,/-()\"\n",
    "for char in tandaBaca:\n",
    "    paragraflower=paragraflower.replace(char,\"\")\n",
    "print(paragraflower)"
   ]
  },
  {
   "cell_type": "code",
   "execution_count": 31,
   "metadata": {},
   "outputs": [
    {
     "name": "stdout",
     "output_type": "stream",
     "text": [
      "['barcelona', 'berhasil', 'merebut', 'posisi', 'puncak', 'klasemen', 'la', 'liga', 'spanyol', 'seusai', 'menang', '42', 'atas', 'sevilla', 'pada', 'pertandingan', 'pekan', 'kesembilan', 'di', 'stadion', 'camp', 'nou', 'sabtu', '20102018', 'atau', 'minggu', 'dini', 'hari', 'wib', 'barcelona', 'membuka', 'keunggulan', 'pada', 'menit', 'ke2', 'melalui', 'gol', 'yang', 'dicetak', 'oleh', 'philippe', 'coutinho', 'lionel', 'messi', 'menggandakan', 'keunggulan', 'barcelona', '10', 'menit', 'berselang', 'namun', 'nahas', 'bagi', 'barcelona', 'karena', 'messi', 'harus', 'ditarik', 'keluar', 'pada', 'menit', 'ke26', 'setelah', 'mengalami', 'cedera', 'tanpa', 'messi', 'skor', '20', 'bertahan', 'hingga', 'babak', 'pertama', 'berakhir']\n"
     ]
    }
   ],
   "source": [
    "listKata=paragraflower.split()\n",
    "print(listKata)"
   ]
  },
  {
   "cell_type": "code",
   "execution_count": 39,
   "metadata": {},
   "outputs": [
    {
     "name": "stdout",
     "output_type": "stream",
     "text": [
      "barcelona : 4\n",
      "berhasil : 1\n",
      "merebut : 1\n",
      "posisi : 1\n",
      "puncak : 1\n",
      "klasemen : 1\n",
      "la : 1\n",
      "liga : 1\n",
      "spanyol : 1\n",
      "seusai : 1\n",
      "menang : 1\n",
      "42 : 1\n",
      "atas : 1\n",
      "sevilla : 1\n",
      "pada : 3\n",
      "pertandingan : 1\n",
      "pekan : 1\n",
      "kesembilan : 1\n",
      "di : 1\n",
      "stadion : 1\n",
      "camp : 1\n",
      "nou : 1\n",
      "sabtu : 1\n",
      "20102018 : 1\n",
      "atau : 1\n",
      "minggu : 1\n",
      "dini : 1\n",
      "hari : 1\n",
      "wib : 1\n",
      "membuka : 1\n",
      "keunggulan : 2\n",
      "menit : 3\n",
      "ke2 : 1\n",
      "melalui : 1\n",
      "gol : 1\n",
      "yang : 1\n",
      "dicetak : 1\n",
      "oleh : 1\n",
      "philippe : 1\n",
      "coutinho : 1\n",
      "lionel : 1\n",
      "messi : 3\n",
      "menggandakan : 1\n",
      "10 : 1\n",
      "berselang : 1\n",
      "namun : 1\n",
      "nahas : 1\n",
      "bagi : 1\n",
      "karena : 1\n",
      "harus : 1\n",
      "ditarik : 1\n",
      "keluar : 1\n",
      "ke26 : 1\n",
      "setelah : 1\n",
      "mengalami : 1\n",
      "cedera : 1\n",
      "tanpa : 1\n",
      "skor : 1\n",
      "20 : 1\n",
      "bertahan : 1\n",
      "hingga : 1\n",
      "babak : 1\n",
      "pertama : 1\n",
      "berakhir : 1\n"
     ]
    }
   ],
   "source": [
    "Dict={}\n",
    "\n",
    "for kata in listKata:\n",
    "    if kata not in Dict:\n",
    "        Dict[kata]=0\n",
    "    Dict[kata]=Dict[kata]+1\n",
    "\n",
    "for k,v in Dict.items():\n",
    "    print(k,':',v)"
   ]
  },
  {
   "cell_type": "code",
   "execution_count": null,
   "metadata": {},
   "outputs": [],
   "source": []
  }
 ],
 "metadata": {
  "kernelspec": {
   "display_name": "Python 3",
   "language": "python",
   "name": "python3"
  },
  "language_info": {
   "codemirror_mode": {
    "name": "ipython",
    "version": 3
   },
   "file_extension": ".py",
   "mimetype": "text/x-python",
   "name": "python",
   "nbconvert_exporter": "python",
   "pygments_lexer": "ipython3",
   "version": "3.7.0"
  }
 },
 "nbformat": 4,
 "nbformat_minor": 2
}
