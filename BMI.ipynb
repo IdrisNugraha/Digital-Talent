{
 "cells": [
  {
   "cell_type": "markdown",
   "metadata": {},
   "source": [
    "# Tugas BMI"
   ]
  },
  {
   "cell_type": "code",
   "execution_count": 27,
   "metadata": {
    "scrolled": true
   },
   "outputs": [
    {
     "name": "stdout",
     "output_type": "stream",
     "text": [
      "Body Mass Index:\n",
      "23.93898977463151\n",
      "BMI Category:\n",
      "Normal (Healthy Weight)\n"
     ]
    }
   ],
   "source": [
    "Weight=70\n",
    "Height=171\n",
    "\n",
    "BMI=(Weight/Height/Height)*10000\n",
    "\n",
    "print(\"Body Mass Index:\")\n",
    "print(BMI)\n",
    "\n",
    "print(\"BMI Category:\")\n",
    "if BMI<15:\n",
    "    print(\"Very Saverely Underweight\")\n",
    "elif BMI<16:\n",
    "    print(\"Saverely Underweight\")\n",
    "elif BMI<18.5:\n",
    "    print(\"Underweight\")\n",
    "elif BMI<25:\n",
    "    print(\"Normal (Healthy Weight)\")\n",
    "elif BMI<30:\n",
    "    print(\"Overweight\")\n",
    "elif BMI<35:\n",
    "    print(\"Moderate Obese\")\n",
    "elif BMI<40:\n",
    "    print(\"Saverely Obese\")\n",
    "else:\n",
    "    print(\"Very Saverely Obese\")\n"
   ]
  },
  {
   "cell_type": "code",
   "execution_count": null,
   "metadata": {},
   "outputs": [],
   "source": []
  },
  {
   "cell_type": "code",
   "execution_count": null,
   "metadata": {},
   "outputs": [],
   "source": []
  }
 ],
 "metadata": {
  "kernelspec": {
   "display_name": "Python 3",
   "language": "python",
   "name": "python3"
  },
  "language_info": {
   "codemirror_mode": {
    "name": "ipython",
    "version": 3
   },
   "file_extension": ".py",
   "mimetype": "text/x-python",
   "name": "python",
   "nbconvert_exporter": "python",
   "pygments_lexer": "ipython3",
   "version": "3.7.0"
  }
 },
 "nbformat": 4,
 "nbformat_minor": 2
}
